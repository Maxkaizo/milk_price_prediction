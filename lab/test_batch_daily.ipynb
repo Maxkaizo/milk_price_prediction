{
 "cells": [
  {
   "cell_type": "code",
   "execution_count": 1,
   "id": "ccebfae2",
   "metadata": {},
   "outputs": [
    {
     "name": "stderr",
     "output_type": "stream",
     "text": [
      "/home/maxkaizo/.local/share/virtualenvs/milk_price_prediction-mju8LJeN/lib/python3.12/site-packages/tqdm/auto.py:21: TqdmWarning: IProgress not found. Please update jupyter and ipywidgets. See https://ipywidgets.readthedocs.io/en/stable/user_install.html\n",
      "  from .autonotebook import tqdm as notebook_tqdm\n",
      "Downloading artifacts: 100%|██████████| 5/5 [00:11<00:00,  2.22s/it]\n"
     ]
    },
    {
     "name": "stdout",
     "output_type": "stream",
     "text": [
      "✅ Archivo guardado: reports/predicciones_2025-08-02.csv\n"
     ]
    }
   ],
   "source": [
    "import pandas as pd\n",
    "from datetime import datetime, timedelta\n",
    "import mlflow.pyfunc\n",
    "import json\n",
    "\n",
    "# --- Leer el dataset completo con histórico ---\n",
    "df = pd.read_parquet(\"../data/processed/full_dataset.parquet\")\n",
    "\n",
    "# --- Definir la fecha objetivo ---\n",
    "tomorrow = datetime.today() + timedelta(days=1)\n",
    "fecha_pred = tomorrow.date()\n",
    "\n",
    "# --- Asegurarse que la columna Fecha esté en formato datetime ---\n",
    "df[\"Fecha\"] = pd.to_datetime(df[\"Fecha\"])\n",
    "\n",
    "# --- Obtener las combinaciones únicas de dimensiones ---\n",
    "dim_cols = [\"Estado\", \"Ciudad\", \"Tipo\", \"Canal\"]\n",
    "combinations = df[dim_cols].drop_duplicates()\n",
    "\n",
    "# --- Calcular Precio_lag1 y Precio_mean7 por combinación ---\n",
    "records = []\n",
    "\n",
    "for _, row in combinations.iterrows():\n",
    "    mask = (\n",
    "        (df[\"Estado\"] == row[\"Estado\"]) &\n",
    "        (df[\"Ciudad\"] == row[\"Ciudad\"]) &\n",
    "        (df[\"Tipo\"] == row[\"Tipo\"]) &\n",
    "        (df[\"Canal\"] == row[\"Canal\"])\n",
    "    )\n",
    "    df_sub = df[mask].sort_values(\"Fecha\")\n",
    "\n",
    "    # Filtro hasta el día anterior a la predicción\n",
    "    df_sub = df_sub[df_sub[\"Fecha\"] < pd.Timestamp(fecha_pred)]\n",
    "\n",
    "    if len(df_sub) == 0:\n",
    "        continue  # no hay datos históricos\n",
    "\n",
    "    precio_lag1 = df_sub.iloc[-1][\"Precio\"]\n",
    "    precio_mean7 = df_sub.tail(7)[\"Precio\"].mean()\n",
    "\n",
    "    record = {\n",
    "        \"Estado\": row[\"Estado\"],\n",
    "        \"Ciudad\": row[\"Ciudad\"],\n",
    "        \"Tipo\": row[\"Tipo\"],\n",
    "        \"Canal\": row[\"Canal\"],\n",
    "        \"día\": tomorrow.day,\n",
    "        \"mes\": tomorrow.month,\n",
    "        \"año\": tomorrow.year,\n",
    "        \"dia_semana\": str(tomorrow.weekday()),  # como string para DictVectorizer\n",
    "        \"Precio_lag1\": precio_lag1,\n",
    "        \"Precio_mean7\": precio_mean7\n",
    "    }\n",
    "    records.append(record)\n",
    "\n",
    "# --- Construir DataFrame final de entrada ---\n",
    "df_pred = pd.DataFrame(records)\n",
    "\n",
    "# --- Cargar modelo desde JSON y ruta S3 ---\n",
    "with open(\"deployment/promoted/daily_model.json\", \"r\") as f:\n",
    "    meta = json.load(f)\n",
    "\n",
    "model_id = meta[\"artifact_uri\"].split(\"/\")[-1]\n",
    "model_s3_path = f\"s3://mlflow-models-milk-price-dev/2/models/{model_id}/artifacts/\"\n",
    "model = mlflow.pyfunc.load_model(model_s3_path)\n",
    "\n",
    "# --- Hacer predicciones ---\n",
    "df_pred[\"Precio_sugerido\"] = model.predict(df_pred.to_dict(orient=\"records\"))\n",
    "\n",
    "# --- Guardar predicciones ---\n",
    "output_path = f\"reports/predicciones_{fecha_pred}.csv\"\n",
    "df_pred.to_csv(output_path, index=False)\n",
    "\n",
    "print(f\"✅ Archivo guardado: {output_path}\")\n"
   ]
  },
  {
   "cell_type": "code",
   "execution_count": null,
   "id": "ef3565ad",
   "metadata": {},
   "outputs": [],
   "source": []
  }
 ],
 "metadata": {
  "kernelspec": {
   "display_name": "milk_price_prediction-mju8LJeN",
   "language": "python",
   "name": "python3"
  },
  "language_info": {
   "codemirror_mode": {
    "name": "ipython",
    "version": 3
   },
   "file_extension": ".py",
   "mimetype": "text/x-python",
   "name": "python",
   "nbconvert_exporter": "python",
   "pygments_lexer": "ipython3",
   "version": "3.12.3"
  }
 },
 "nbformat": 4,
 "nbformat_minor": 5
}
