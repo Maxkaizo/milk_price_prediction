{
 "cells": [
  {
   "cell_type": "code",
   "execution_count": null,
   "id": "29bee876",
   "metadata": {},
   "outputs": [],
   "source": [
    "! wget https://www.economia-sniim.gob.mx/SNIIM-Archivosfuente/Comentarios/Otros/Leche25072025.xlsx"
   ]
  },
  {
   "cell_type": "code",
   "execution_count": null,
   "id": "a72f392d",
   "metadata": {},
   "outputs": [],
   "source": []
  }
 ],
 "metadata": {
  "kernelspec": {
   "display_name": "mlops",
   "language": "python",
   "name": "python3"
  },
  "language_info": {
   "name": "python",
   "version": "3.13.5"
  }
 },
 "nbformat": 4,
 "nbformat_minor": 5
}
