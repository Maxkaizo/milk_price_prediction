{
 "cells": [
  {
   "cell_type": "code",
   "execution_count": 1,
   "id": "ba27de47",
   "metadata": {},
   "outputs": [
    {
     "name": "stderr",
     "output_type": "stream",
     "text": [
      "/tmp/ipykernel_26783/77213842.py:19: FutureWarning: ``mlflow.tracking.client.MlflowClient.get_latest_versions`` is deprecated since 2.9.0. Model registry stages will be removed in a future major release. To learn more about the deprecation of model registry stages, see our migration guide here: https://mlflow.org/docs/latest/model-registry.html#migrating-from-stages\n",
      "  versions = client.get_latest_versions(name, stages=[\"None\"])\n",
      "/tmp/ipykernel_26783/77213842.py:35: FutureWarning: ``mlflow.tracking.client.MlflowClient.transition_model_version_stage`` is deprecated since 2.9.0. Model registry stages will be removed in a future major release. To learn more about the deprecation of model registry stages, see our migration guide here: https://mlflow.org/docs/latest/model-registry.html#migrating-from-stages\n",
      "  client.transition_model_version_stage(\n"
     ]
    },
    {
     "data": {
      "text/plain": [
       "{'model_name': 'milk-price-predictor-xgb',\n",
       " 'version': '1',\n",
       " 'rmse': np.float64(0.2554389777452065),\n",
       " 'promoted_stage': 'Staging',\n",
       " 'promotion_time': '2025-07-31T12:36:31.779459'}"
      ]
     },
     "execution_count": 1,
     "metadata": {},
     "output_type": "execute_result"
    }
   ],
   "source": [
    "from datetime import datetime\n",
    "import mlflow\n",
    "from mlflow.tracking import MlflowClient\n",
    "import pandas as pd\n",
    "\n",
    "# Set tracking URI and experiment\n",
    "mlflow.set_tracking_uri(\"http://127.0.0.1:5000\")\n",
    "client = MlflowClient()\n",
    "\n",
    "# Define model names for comparison\n",
    "model_names = [\n",
    "    \"milk-price-predictor-xgb\",\n",
    "    \"milk-price-predictor-rf\"\n",
    "]\n",
    "\n",
    "# Fetch latest versions and their RMSEs\n",
    "model_info = []\n",
    "for name in model_names:\n",
    "    versions = client.get_latest_versions(name, stages=[\"None\"])\n",
    "    for v in versions:\n",
    "        run = client.get_run(v.run_id)\n",
    "        rmse = run.data.metrics.get(\"final_rmse\")\n",
    "        model_info.append({\n",
    "            \"model_name\": name,\n",
    "            \"version\": v.version,\n",
    "            \"run_id\": v.run_id,\n",
    "            \"rmse\": rmse\n",
    "        })\n",
    "\n",
    "# Convert to DataFrame and determine best model\n",
    "df_models = pd.DataFrame(model_info)\n",
    "best_model = df_models.sort_values(\"rmse\").iloc[0]\n",
    "\n",
    "# Promote best model to Staging\n",
    "client.transition_model_version_stage(\n",
    "    name=best_model.model_name,\n",
    "    version=best_model.version,\n",
    "    stage=\"Staging\",\n",
    "    archive_existing_versions=True\n",
    ")\n",
    "\n",
    "best_model_info = {\n",
    "    \"model_name\": best_model.model_name,\n",
    "    \"version\": best_model.version,\n",
    "    \"rmse\": best_model.rmse,\n",
    "    \"promoted_stage\": \"Staging\",\n",
    "    \"promotion_time\": datetime.now().isoformat()\n",
    "}\n",
    "\n",
    "best_model_info\n"
   ]
  },
  {
   "cell_type": "code",
   "execution_count": null,
   "id": "0dde2558",
   "metadata": {},
   "outputs": [],
   "source": []
  }
 ],
 "metadata": {
  "kernelspec": {
   "display_name": "milk_price_prediction-mju8LJeN",
   "language": "python",
   "name": "python3"
  },
  "language_info": {
   "codemirror_mode": {
    "name": "ipython",
    "version": 3
   },
   "file_extension": ".py",
   "mimetype": "text/x-python",
   "name": "python",
   "nbconvert_exporter": "python",
   "pygments_lexer": "ipython3",
   "version": "3.12.3"
  }
 },
 "nbformat": 4,
 "nbformat_minor": 5
}
