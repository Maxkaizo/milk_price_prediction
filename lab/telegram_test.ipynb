{
 "cells": [
  {
   "cell_type": "code",
   "execution_count": 1,
   "id": "d99b9ea7",
   "metadata": {},
   "outputs": [
    {
     "name": "stdout",
     "output_type": "stream",
     "text": [
      "✅ Mensaje enviado correctamente\n"
     ]
    }
   ],
   "source": [
    "# send_telegram_test.ipynb\n",
    "\n",
    "import requests\n",
    "\n",
    "# Reemplaza con tus datos reales\n",
    "TELEGRAM_BOT_TOKEN = \"8220632753:AAG6_ePNCwcJQhJk1l6cptx4dD1kd7M9hrU\"\n",
    "TELEGRAM_CHAT_ID = \"582235345\"\n",
    "\n",
    "def send_telegram_message(message: str, token: str, chat_id: str):\n",
    "    url = f\"https://api.telegram.org/bot{token}/sendMessage\"\n",
    "    payload = {\n",
    "        \"chat_id\": chat_id,\n",
    "        \"text\": message,\n",
    "        \"parse_mode\": \"HTML\"  # opcional: puedes usar Markdown también\n",
    "    }\n",
    "\n",
    "    response = requests.post(url, json=payload)\n",
    "\n",
    "    if response.status_code == 200:\n",
    "        print(\"✅ Mensaje enviado correctamente\")\n",
    "    else:\n",
    "        print(f\"❌ Error al enviar mensaje: {response.status_code} - {response.text}\")\n",
    "\n",
    "# Evento de prueba\n",
    "mensaje = \"🚨 Prueba de notificación desde Evidently/Prefect\"\n",
    "send_telegram_message(mensaje, TELEGRAM_BOT_TOKEN, TELEGRAM_CHAT_ID)\n"
   ]
  },
  {
   "cell_type": "code",
   "execution_count": null,
   "id": "e88c2726",
   "metadata": {},
   "outputs": [],
   "source": []
  }
 ],
 "metadata": {
  "kernelspec": {
   "display_name": "milk_price_prediction-mju8LJeN",
   "language": "python",
   "name": "python3"
  },
  "language_info": {
   "codemirror_mode": {
    "name": "ipython",
    "version": 3
   },
   "file_extension": ".py",
   "mimetype": "text/x-python",
   "name": "python",
   "nbconvert_exporter": "python",
   "pygments_lexer": "ipython3",
   "version": "3.12.3"
  }
 },
 "nbformat": 4,
 "nbformat_minor": 5
}
