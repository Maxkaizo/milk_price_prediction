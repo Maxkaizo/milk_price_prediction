{
 "cells": [
  {
   "cell_type": "code",
   "execution_count": 10,
   "id": "41d5890c",
   "metadata": {},
   "outputs": [],
   "source": [
    "import numpy as np\n",
    "import pandas as pd\n",
    "from evidently import Report, Dataset, Regression, DataDefinition\n",
    "from evidently.metrics import MeanError, RMSE, DummyMAE, DummyRMSE"
   ]
  },
  {
   "cell_type": "code",
   "execution_count": 11,
   "id": "5bbdab90",
   "metadata": {},
   "outputs": [],
   "source": [
    "# Paso 1: Generar datos sintéticos\n",
    "np.random.seed(42)\n",
    "\n",
    "# Datos de referencia (mes anterior)\n",
    "ref_df = pd.DataFrame({\n",
    "    \"target\": np.random.normal(50, 5, 100),\n",
    "    \"prediction\": np.random.normal(50, 5, 100)\n",
    "})"
   ]
  },
  {
   "cell_type": "code",
   "execution_count": 12,
   "id": "79995260",
   "metadata": {},
   "outputs": [],
   "source": [
    "# Datos actuales (mes actual con ligera desviación)\n",
    "curr_df = pd.DataFrame({\n",
    "    \"target\": np.random.normal(50, 5, 100),\n",
    "    \"prediction\": np.random.normal(54, 6, 100)\n",
    "})"
   ]
  },
  {
   "cell_type": "code",
   "execution_count": 13,
   "id": "763fdd2f",
   "metadata": {},
   "outputs": [],
   "source": [
    "# Paso 2: Declarar la definición\n",
    "data_definition = DataDefinition(\n",
    "    regression=[Regression(target=\"target\", prediction=\"prediction\")]\n",
    "    )"
   ]
  },
  {
   "cell_type": "code",
   "execution_count": 14,
   "id": "31ad234d",
   "metadata": {},
   "outputs": [],
   "source": [
    "ref_dataset = Dataset.from_pandas(\n",
    "    ref_df,\n",
    "    data_definition=data_definition\n",
    ")"
   ]
  },
  {
   "cell_type": "code",
   "execution_count": 15,
   "id": "aac9b37d",
   "metadata": {},
   "outputs": [],
   "source": [
    "curr_dataset = Dataset.from_pandas(\n",
    "    curr_df,\n",
    "    data_definition=data_definition\n",
    ")"
   ]
  },
  {
   "cell_type": "code",
   "execution_count": 16,
   "id": "7ead4dad",
   "metadata": {},
   "outputs": [
    {
     "name": "stderr",
     "output_type": "stream",
     "text": [
      "/home/maxkaizo/.local/share/virtualenvs/milk_price_prediction-mju8LJeN/lib/python3.12/site-packages/sklearn/metrics/_regression.py:1283: UndefinedMetricWarning:\n",
      "\n",
      "R^2 score is not well-defined with less than two samples.\n",
      "\n",
      "/home/maxkaizo/.local/share/virtualenvs/milk_price_prediction-mju8LJeN/lib/python3.12/site-packages/sklearn/metrics/_regression.py:1283: UndefinedMetricWarning:\n",
      "\n",
      "R^2 score is not well-defined with less than two samples.\n",
      "\n",
      "/home/maxkaizo/.local/share/virtualenvs/milk_price_prediction-mju8LJeN/lib/python3.12/site-packages/evidently/legacy/metrics/regression_performance/utils.py:21: FutureWarning:\n",
      "\n",
      "DataFrameGroupBy.apply operated on the grouping columns. This behavior is deprecated, and in a future version of pandas the grouping columns will be excluded from the operation. Either pass `include_groups=False` to exclude the groupings or explicitly select the grouping columns after groupby to silence this warning.\n",
      "\n",
      "/home/maxkaizo/.local/share/virtualenvs/milk_price_prediction-mju8LJeN/lib/python3.12/site-packages/evidently/legacy/metrics/regression_performance/utils.py:21: FutureWarning:\n",
      "\n",
      "DataFrameGroupBy.apply operated on the grouping columns. This behavior is deprecated, and in a future version of pandas the grouping columns will be excluded from the operation. Either pass `include_groups=False` to exclude the groupings or explicitly select the grouping columns after groupby to silence this warning.\n",
      "\n",
      "/home/maxkaizo/.local/share/virtualenvs/milk_price_prediction-mju8LJeN/lib/python3.12/site-packages/evidently/legacy/metrics/regression_performance/utils.py:21: FutureWarning:\n",
      "\n",
      "DataFrameGroupBy.apply operated on the grouping columns. This behavior is deprecated, and in a future version of pandas the grouping columns will be excluded from the operation. Either pass `include_groups=False` to exclude the groupings or explicitly select the grouping columns after groupby to silence this warning.\n",
      "\n",
      "/home/maxkaizo/.local/share/virtualenvs/milk_price_prediction-mju8LJeN/lib/python3.12/site-packages/evidently/legacy/metrics/regression_performance/utils.py:21: FutureWarning:\n",
      "\n",
      "DataFrameGroupBy.apply operated on the grouping columns. This behavior is deprecated, and in a future version of pandas the grouping columns will be excluded from the operation. Either pass `include_groups=False` to exclude the groupings or explicitly select the grouping columns after groupby to silence this warning.\n",
      "\n"
     ]
    }
   ],
   "source": [
    "# Paso 4: Crear el reporte Evidently\n",
    "# report = Report(metrics=[RegressionPreset()])\n",
    "\n",
    "report = Report([\n",
    "    MeanError(),\n",
    "    RMSE(),\n",
    "    DummyMAE(),\n",
    "    DummyRMSE(),\n",
    "])\n",
    "\n",
    "# Paso 5: Ejecutar con referencia y actual\n",
    "output = report.run(current_data=curr_dataset)"
   ]
  },
  {
   "cell_type": "code",
   "execution_count": 17,
   "id": "145d208a",
   "metadata": {},
   "outputs": [
    {
     "name": "stdout",
     "output_type": "stream",
     "text": [
      "✅ Reporte guardado como regression_drift_report.html\n"
     ]
    }
   ],
   "source": [
    "output.save_html(\"regression_drift_report.html\")\n",
    "print(\"✅ Reporte guardado como regression_drift_report.html\")"
   ]
  },
  {
   "cell_type": "code",
   "execution_count": null,
   "id": "15cbc2b5",
   "metadata": {},
   "outputs": [],
   "source": []
  }
 ],
 "metadata": {
  "kernelspec": {
   "display_name": "milk_price_prediction-mju8LJeN",
   "language": "python",
   "name": "python3"
  },
  "language_info": {
   "codemirror_mode": {
    "name": "ipython",
    "version": 3
   },
   "file_extension": ".py",
   "mimetype": "text/x-python",
   "name": "python",
   "nbconvert_exporter": "python",
   "pygments_lexer": "ipython3",
   "version": "3.12.3"
  }
 },
 "nbformat": 4,
 "nbformat_minor": 5
}
