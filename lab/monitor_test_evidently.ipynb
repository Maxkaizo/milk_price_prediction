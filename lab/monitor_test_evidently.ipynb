{
 "cells": [
  {
   "cell_type": "code",
   "execution_count": 1,
   "id": "d7dc7eb7",
   "metadata": {},
   "outputs": [],
   "source": [
    "import pandas as pd\n",
    "from evidently import Report\n",
    "from evidently.presets import DataDriftPreset\n",
    "import matplotlib.pyplot as plt"
   ]
  },
  {
   "cell_type": "code",
   "execution_count": 2,
   "id": "301ca316",
   "metadata": {},
   "outputs": [],
   "source": [
    "# Simula carga de datos históricos vs recientes\n",
    "df_ref = pd.read_parquet(\"../data/datalake/monthly/2025/05/2025-05-data.parquet\")\n",
    "df_cur = pd.read_parquet(\"../data/datalake/monthly/2025/06/2025-06-data.parquet\")"
   ]
  },
  {
   "cell_type": "code",
   "execution_count": 3,
   "id": "3ccb3a87",
   "metadata": {},
   "outputs": [],
   "source": [
    "# Limpieza mínima\n",
    "df_ref = df_ref.dropna(subset=[\"Precio\"])\n",
    "df_cur = df_cur.dropna(subset=[\"Precio\"])\n"
   ]
  },
  {
   "cell_type": "code",
   "execution_count": 4,
   "id": "ecae0943",
   "metadata": {},
   "outputs": [],
   "source": [
    "categorical = [\"Estado\", \"Ciudad\", \"Tipo\", \"Canal\"]\n",
    "df_ref[categorical] = df_ref[categorical].astype(str)\n",
    "df_cur[categorical] = df_cur[categorical].astype(str)"
   ]
  },
  {
   "cell_type": "code",
   "execution_count": 5,
   "id": "920e4f51",
   "metadata": {},
   "outputs": [],
   "source": [
    "# Genera el reporte Evidently\n",
    "report = Report(metrics=[DataDriftPreset()])\n",
    "output = report.run(reference_data=df_ref, current_data=df_cur)"
   ]
  },
  {
   "cell_type": "code",
   "execution_count": 6,
   "id": "8f7b4612",
   "metadata": {},
   "outputs": [],
   "source": [
    "output.save_html(\"../monitor/reports/test-drift-report.evidently.html\")"
   ]
  },
  {
   "cell_type": "code",
   "execution_count": null,
   "id": "3ef1ab53",
   "metadata": {},
   "outputs": [],
   "source": [
    "output.dump_dict()[\"metrics\"][0][\"result\"][\"dataset_drift\"]"
   ]
  },
  {
   "cell_type": "code",
   "execution_count": 39,
   "id": "177eac72",
   "metadata": {},
   "outputs": [
    {
     "data": {
      "text/plain": [
       "'Dataset Drift is NOT detected. Dataset drift detection threshold is 0.5'"
      ]
     },
     "execution_count": 39,
     "metadata": {},
     "output_type": "execute_result"
    }
   ],
   "source": [
    "result_dict[\"widgets\"][0][\"params\"][\"counters\"][0][\"label\"]"
   ]
  },
  {
   "cell_type": "code",
   "execution_count": 15,
   "id": "047210ea",
   "metadata": {},
   "outputs": [],
   "source": [
    "result_dict = output.dump_dict()"
   ]
  },
  {
   "cell_type": "code",
   "execution_count": 16,
   "id": "a0323d01",
   "metadata": {},
   "outputs": [
    {
     "ename": "KeyError",
     "evalue": "'data'",
     "output_type": "error",
     "traceback": [
      "\u001b[31m---------------------------------------------------------------------------\u001b[39m",
      "\u001b[31mKeyError\u001b[39m                                  Traceback (most recent call last)",
      "\u001b[36mCell\u001b[39m\u001b[36m \u001b[39m\u001b[32mIn[16]\u001b[39m\u001b[32m, line 7\u001b[39m\n\u001b[32m      1\u001b[39m \u001b[38;5;66;03m# Suponiendo que result_dict es tu diccionario Evidently\u001b[39;00m\n\u001b[32m      2\u001b[39m big_table = \u001b[38;5;28mnext\u001b[39m(\n\u001b[32m      3\u001b[39m     widget \u001b[38;5;28;01mfor\u001b[39;00m widget \u001b[38;5;129;01min\u001b[39;00m result_dict[\u001b[33m\"\u001b[39m\u001b[33mwidgets\u001b[39m\u001b[33m\"\u001b[39m]\n\u001b[32m      4\u001b[39m     \u001b[38;5;28;01mif\u001b[39;00m widget.get(\u001b[33m\"\u001b[39m\u001b[33mtype\u001b[39m\u001b[33m\"\u001b[39m) == \u001b[33m\"\u001b[39m\u001b[33mbig_table\u001b[39m\u001b[33m\"\u001b[39m\n\u001b[32m      5\u001b[39m )\n\u001b[32m----> \u001b[39m\u001b[32m7\u001b[39m data_part = \u001b[43mbig_table\u001b[49m\u001b[43m[\u001b[49m\u001b[33;43m\"\u001b[39;49m\u001b[33;43mdata\u001b[39;49m\u001b[33;43m\"\u001b[39;49m\u001b[43m]\u001b[49m[\u001b[32m0\u001b[39m][\u001b[33m\"\u001b[39m\u001b[33mdetails\u001b[39m\u001b[33m\"\u001b[39m][\u001b[33m\"\u001b[39m\u001b[33mparts\u001b[39m\u001b[33m\"\u001b[39m][\u001b[32m0\u001b[39m]\n\u001b[32m      8\u001b[39m data_drift_status = data_part[\u001b[33m\"\u001b[39m\u001b[33mdata_drift\u001b[39m\u001b[33m\"\u001b[39m]\n\u001b[32m      9\u001b[39m drift_score = data_part[\u001b[33m\"\u001b[39m\u001b[33mdrift_score\u001b[39m\u001b[33m\"\u001b[39m]\n",
      "\u001b[31mKeyError\u001b[39m: 'data'"
     ]
    }
   ],
   "source": [
    "# Suponiendo que result_dict es tu diccionario Evidently\n",
    "big_table = next(\n",
    "    widget for widget in result_dict[\"widgets\"]\n",
    "    if widget.get(\"type\") == \"big_table\"\n",
    ")\n",
    "\n",
    "data_part = big_table[\"data\"][0][\"details\"][\"parts\"][0]\n",
    "data_drift_status = data_part[\"data_drift\"]\n",
    "drift_score = data_part[\"drift_score\"]\n",
    "\n",
    "print(\"🧪 Drift status:\", data_drift_status)\n",
    "print(\"📉 Drift score:\", drift_score)\n"
   ]
  },
  {
   "cell_type": "code",
   "execution_count": 17,
   "id": "d4a6eae0",
   "metadata": {},
   "outputs": [
    {
     "name": "stdout",
     "output_type": "stream",
     "text": [
      "🧪 Drift status: Unknown\n",
      "📉 Drift score: None\n"
     ]
    }
   ],
   "source": [
    "# Suponiendo result_dict contiene el dict Evidently\n",
    "big_table = next(w for w in result_dict[\"widgets\"] if w.get(\"type\") == \"big_table\")\n",
    "\n",
    "# Ahora sí: acceder a la parte donde están los datos\n",
    "data_entry = big_table[\"params\"][\"data\"][0]  # ¡Nota! clave estaba en params, no directamente\n",
    "\n",
    "# Extraer los valores dentro de la sección 'parts'\n",
    "parts = data_entry[\"details\"][\"parts\"]\n",
    "\n",
    "# Buscar el bloque con título 'DATA DRIFT'\n",
    "drift_block = next(p for p in parts if p[\"title\"] == \"DATA DRIFT\")\n",
    "\n",
    "# Obtener los valores deseados\n",
    "data_drift_status = drift_block.get(\"data_drift\", \"Unknown\")\n",
    "drift_score = drift_block.get(\"drift_score\", None)\n",
    "\n",
    "print(\"🧪 Drift status:\", data_drift_status)\n",
    "print(\"📉 Drift score:\", drift_score)\n"
   ]
  },
  {
   "cell_type": "code",
   "execution_count": null,
   "id": "a8571664",
   "metadata": {},
   "outputs": [],
   "source": []
  }
 ],
 "metadata": {
  "kernelspec": {
   "display_name": "milk_price_prediction-mju8LJeN",
   "language": "python",
   "name": "python3"
  },
  "language_info": {
   "codemirror_mode": {
    "name": "ipython",
    "version": 3
   },
   "file_extension": ".py",
   "mimetype": "text/x-python",
   "name": "python",
   "nbconvert_exporter": "python",
   "pygments_lexer": "ipython3",
   "version": "3.12.3"
  }
 },
 "nbformat": 4,
 "nbformat_minor": 5
}
