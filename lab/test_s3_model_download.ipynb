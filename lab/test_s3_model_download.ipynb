{
 "cells": [
  {
   "cell_type": "code",
   "execution_count": 1,
   "id": "32993b8a",
   "metadata": {},
   "outputs": [],
   "source": [
    "import boto3\n",
    "from pathlib import Path\n",
    "import os"
   ]
  },
  {
   "cell_type": "code",
   "execution_count": 2,
   "id": "d2dbe3df",
   "metadata": {},
   "outputs": [],
   "source": [
    "# Configura estos valores según tu bucket y prefijo\n",
    "BUCKET_NAME = \"mlflow-models-milk-price-dev\"\n",
    "LOCAL_MODEL_PATH = Path(\"model/model.pkl\")\n",
    "MODEL_FILENAME = \"model.pkl\""
   ]
  },
  {
   "cell_type": "code",
   "execution_count": 3,
   "id": "f8be5612",
   "metadata": {},
   "outputs": [],
   "source": [
    "s3 = boto3.client(\"s3\")\n",
    "response = s3.list_objects_v2(Bucket=BUCKET_NAME)"
   ]
  },
  {
   "cell_type": "code",
   "execution_count": 4,
   "id": "638750fa",
   "metadata": {},
   "outputs": [],
   "source": [
    "model_files = [\n",
    "    obj for obj in response[\"Contents\"]\n",
    "    if obj[\"Key\"].endswith(MODEL_FILENAME)\n",
    "]"
   ]
  },
  {
   "cell_type": "code",
   "execution_count": 5,
   "id": "7eb4db41",
   "metadata": {},
   "outputs": [],
   "source": [
    "latest_file = max(model_files, key=lambda x: x[\"LastModified\"])"
   ]
  },
  {
   "cell_type": "code",
   "execution_count": null,
   "id": "2daebcb0",
   "metadata": {},
   "outputs": [
    {
     "data": {
      "text/plain": [
       "{'Key': '1/models/m-8e49a3b5fce846528a9698d85d3b3b52/artifacts/model.pkl',\n",
       " 'LastModified': datetime.datetime(2025, 7, 29, 1, 30, 28, tzinfo=tzutc()),\n",
       " 'ETag': '\"622afa7e02fa4202307cd3e9479f7763\"',\n",
       " 'ChecksumAlgorithm': ['CRC32'],\n",
       " 'ChecksumType': 'FULL_OBJECT',\n",
       " 'Size': 454325,\n",
       " 'StorageClass': 'STANDARD'}"
      ]
     },
     "execution_count": 6,
     "metadata": {},
     "output_type": "execute_result"
    }
   ],
   "source": [
    "latest_file"
   ]
  },
  {
   "cell_type": "code",
   "execution_count": 8,
   "id": "e1dd5046",
   "metadata": {},
   "outputs": [],
   "source": [
    "latest_key = latest_file['Key']"
   ]
  },
  {
   "cell_type": "code",
   "execution_count": 9,
   "id": "3cbb7850",
   "metadata": {},
   "outputs": [],
   "source": [
    "model_uri = f\"s3://{BUCKET_NAME}/\" + \"/\".join(latest_key.split(\"/\")[:-1])"
   ]
  },
  {
   "cell_type": "code",
   "execution_count": 12,
   "id": "d9d573ca",
   "metadata": {},
   "outputs": [
    {
     "data": {
      "text/plain": [
       "'1/models/m-8e49a3b5fce846528a9698d85d3b3b52/artifacts/model.pkl'"
      ]
     },
     "execution_count": 12,
     "metadata": {},
     "output_type": "execute_result"
    }
   ],
   "source": [
    "latest_key"
   ]
  },
  {
   "cell_type": "code",
   "execution_count": 16,
   "id": "3d69550b",
   "metadata": {},
   "outputs": [
    {
     "data": {
      "text/plain": [
       "['1', 'models', 'm-8e49a3b5fce846528a9698d85d3b3b52', 'artifacts', 'model.pkl']"
      ]
     },
     "execution_count": 16,
     "metadata": {},
     "output_type": "execute_result"
    }
   ],
   "source": [
    "latest_key.split(\"/\")"
   ]
  },
  {
   "cell_type": "markdown",
   "id": "1097dcbb",
   "metadata": {},
   "source": [
    "latest_key.split(\"/\")[:-1]"
   ]
  },
  {
   "cell_type": "code",
   "execution_count": 10,
   "id": "d929a572",
   "metadata": {},
   "outputs": [
    {
     "data": {
      "text/plain": [
       "'s3://mlflow-models-milk-price-dev/1/models/m-8e49a3b5fce846528a9698d85d3b3b52/artifacts'"
      ]
     },
     "execution_count": 10,
     "metadata": {},
     "output_type": "execute_result"
    }
   ],
   "source": [
    "model_uri"
   ]
  },
  {
   "cell_type": "code",
   "execution_count": 14,
   "id": "57e7c5d4",
   "metadata": {},
   "outputs": [],
   "source": [
    "model_uri = f\"s3://{BUCKET_NAME}/\" + str({latest_key})"
   ]
  },
  {
   "cell_type": "code",
   "execution_count": 15,
   "id": "489e08cf",
   "metadata": {},
   "outputs": [
    {
     "data": {
      "text/plain": [
       "\"s3://mlflow-models-milk-price-dev/{'1/models/m-8e49a3b5fce846528a9698d85d3b3b52/artifacts/model.pkl'}\""
      ]
     },
     "execution_count": 15,
     "metadata": {},
     "output_type": "execute_result"
    }
   ],
   "source": [
    "model_uri"
   ]
  },
  {
   "cell_type": "code",
   "execution_count": null,
   "id": "4d23aa29",
   "metadata": {},
   "outputs": [],
   "source": []
  }
 ],
 "metadata": {
  "kernelspec": {
   "display_name": "milk_price_prediction-mju8LJeN",
   "language": "python",
   "name": "python3"
  },
  "language_info": {
   "codemirror_mode": {
    "name": "ipython",
    "version": 3
   },
   "file_extension": ".py",
   "mimetype": "text/x-python",
   "name": "python",
   "nbconvert_exporter": "python",
   "pygments_lexer": "ipython3",
   "version": "3.12.3"
  }
 },
 "nbformat": 4,
 "nbformat_minor": 5
}
