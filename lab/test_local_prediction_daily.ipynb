{
 "cells": [
  {
   "cell_type": "code",
   "execution_count": 8,
   "id": "18e1a3c2",
   "metadata": {},
   "outputs": [],
   "source": [
    "import json\n",
    "import mlflow.pyfunc\n",
    "import pandas as pd"
   ]
  },
  {
   "cell_type": "code",
   "execution_count": 9,
   "id": "c90e1445",
   "metadata": {},
   "outputs": [
    {
     "name": "stdout",
     "output_type": "stream",
     "text": [
      "📦 Loading model from: s3://mlflow-models-milk-price-dev/2/models/m-7e67bea8560d44c4b4e38bad4030982d/artifacts/\n"
     ]
    },
    {
     "name": "stderr",
     "output_type": "stream",
     "text": [
      "Downloading artifacts: 100%|██████████| 5/5 [00:12<00:00,  2.40s/it]\n"
     ]
    }
   ],
   "source": [
    "with open(\"deployment/promoted/daily_model.json\") as f:\n",
    "    meta = json.load(f)\n",
    "\n",
    "model_id = meta[\"artifact_uri\"].split(\"models:/\")[-1]\n",
    "model_s3_path = f\"s3://mlflow-models-milk-price-dev/2/models/{model_id}/artifacts/\"\n",
    "\n",
    "print(f\"📦 Loading model from: {model_s3_path}\")\n",
    "model = mlflow.pyfunc.load_model(model_s3_path)\n"
   ]
  },
  {
   "cell_type": "code",
   "execution_count": 10,
   "id": "f37feaf1",
   "metadata": {},
   "outputs": [],
   "source": [
    "sample = {\n",
    "    \"Estado\": \"Jalisco\",\n",
    "    \"Ciudad\": \"Guadalajara\",\n",
    "    \"Tipo\": \"Pasteurizada\",\n",
    "    \"Canal\": \"Autoservicio\",\n",
    "    \"dia_semana\": \"4\",\n",
    "    \"Precio_lag1\": 23.5,\n",
    "    \"Precio_mean7\": 23.1,\n",
    "    \"mes\": 8,\n",
    "    \"dia\": 1,\n",
    "    \"año\": 2025\n",
    "}"
   ]
  },
  {
   "cell_type": "code",
   "execution_count": 11,
   "id": "2e5ba07c",
   "metadata": {},
   "outputs": [
    {
     "name": "stdout",
     "output_type": "stream",
     "text": [
      "📈 Suggested price: $23.27\n"
     ]
    }
   ],
   "source": [
    "prediction = model.predict([sample])\n",
    "print(f\"📈 Suggested price: ${prediction[0]:.2f}\")"
   ]
  },
  {
   "cell_type": "code",
   "execution_count": null,
   "id": "96896c23",
   "metadata": {},
   "outputs": [],
   "source": []
  },
  {
   "cell_type": "code",
   "execution_count": null,
   "id": "a748b15b",
   "metadata": {},
   "outputs": [],
   "source": []
  }
 ],
 "metadata": {
  "kernelspec": {
   "display_name": "milk_price_prediction-mju8LJeN",
   "language": "python",
   "name": "python3"
  },
  "language_info": {
   "codemirror_mode": {
    "name": "ipython",
    "version": 3
   },
   "file_extension": ".py",
   "mimetype": "text/x-python",
   "name": "python",
   "nbconvert_exporter": "python",
   "pygments_lexer": "ipython3",
   "version": "3.12.3"
  }
 },
 "nbformat": 4,
 "nbformat_minor": 5
}
