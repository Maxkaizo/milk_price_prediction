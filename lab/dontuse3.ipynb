{
 "cells": [
  {
   "cell_type": "code",
   "execution_count": null,
   "id": "fef39948",
   "metadata": {},
   "outputs": [
    {
     "name": "stdout",
     "output_type": "stream",
     "text": [
      "📌 Latest 'milk-price-predictor-rf' in Staging: version 2, run_id 94127e382abb4a53a17632764c844261\n",
      "📦 artifact_uri: models:/m-7e67bea8560d44c4b4e38bad4030982d\n",
      "📈 final_rmse: 0.21774853869800637\n",
      "✅ daily_model.json saved locally:\n",
      "{\n",
      "  \"model_name\": \"milk-price-predictor-rf\",\n",
      "  \"version\": \"2\",\n",
      "  \"run_id\": \"94127e382abb4a53a17632764c844261\",\n",
      "  \"artifact_uri\": \"models:/m-7e67bea8560d44c4b4e38bad4030982d\",\n",
      "  \"rmse\": 0.21774853869800637,\n",
      "  \"promoted_stage\": \"Staging\",\n",
      "  \"promotion_time\": \"2025-08-01T04:57:35.411224\"\n",
      "}\n"
     ]
    },
    {
     "name": "stderr",
     "output_type": "stream",
     "text": [
      "/tmp/ipykernel_38224/1374647366.py:15: FutureWarning: ``mlflow.tracking.client.MlflowClient.get_latest_versions`` is deprecated since 2.9.0. Model registry stages will be removed in a future major release. To learn more about the deprecation of model registry stages, see our migration guide here: https://mlflow.org/docs/latest/model-registry.html#migrating-from-stages\n",
      "  versions = client.get_latest_versions(model_name, stages=[\"Staging\"])\n",
      "/tmp/ipykernel_38224/1374647366.py:42: DeprecationWarning: datetime.datetime.utcnow() is deprecated and scheduled for removal in a future version. Use timezone-aware objects to represent datetimes in UTC: datetime.datetime.now(datetime.UTC).\n",
      "  \"promotion_time\": datetime.utcnow().isoformat()\n"
     ]
    }
   ],
   "source": [
    "import mlflow\n",
    "from mlflow.tracking import MlflowClient\n",
    "from datetime import datetime\n",
    "import json\n",
    "from pathlib import Path\n",
    "\n",
    "# --- Setup ---\n",
    "mlflow.set_tracking_uri(\"http://localhost:5000\")\n",
    "client = MlflowClient()\n",
    "\n",
    "# --- INPUTS ---\n",
    "model_name = \"milk-price-predictor-rf\"\n",
    "\n",
    "# Get latest version in \"Staging\"\n",
    "versions = client.get_latest_versions(model_name, stages=[\"Staging\"])\n",
    "if not versions:\n",
    "    raise ValueError(f\"No model found in Staging stage for '{model_name}'\")\n",
    "\n",
    "model_version = versions[0].version\n",
    "run_id = versions[0].run_id\n",
    "print(f\"📌 Latest '{model_name}' in Staging: version {model_version}, run_id {run_id}\")\n",
    "\n",
    "# Get model path from model registry (not run)\n",
    "registered_model = client.get_model_version(name=model_name, version=model_version)\n",
    "artifact_uri = registered_model.source  # this points to s3://.../models/m-xxx/artifacts\n",
    "\n",
    "print(f\"📦 artifact_uri: {artifact_uri}\")\n",
    "\n",
    "# Get RMSE from run (metric must have been logged as 'final_rmse')\n",
    "run = client.get_run(run_id)\n",
    "rmse = float(run.data.metrics.get(\"final_rmse\", -1))\n",
    "print(f\"📈 final_rmse: {rmse}\")\n",
    "\n",
    "# --- Build promotion record ---\n",
    "promotion_record = {\n",
    "    \"model_name\": model_name,\n",
    "    \"version\": str(model_version),\n",
    "    \"run_id\": run_id,\n",
    "    \"artifact_uri\": artifact_uri,\n",
    "    \"rmse\": rmse,\n",
    "    \"promoted_stage\": \"Staging\",\n",
    "    \"promotion_time\": datetime.utcnow().isoformat()\n",
    "}\n",
    "\n",
    "# --- Save locally for testing ---\n",
    "Path(\"deployment/promoted\").mkdir(parents=True, exist_ok=True)\n",
    "\n",
    "with open(\"deployment/promoted/daily_model.json\", \"w\") as f:\n",
    "    json.dump(promotion_record, f, indent=2)\n",
    "\n",
    "print(\"✅ daily_model.json saved locally:\")\n",
    "print(json.dumps(promotion_record, indent=2))\n"
   ]
  },
  {
   "cell_type": "code",
   "execution_count": 3,
   "id": "27353006",
   "metadata": {},
   "outputs": [
    {
     "data": {
      "text/plain": [
       "'models:/m-7e67bea8560d44c4b4e38bad4030982d'"
      ]
     },
     "execution_count": 3,
     "metadata": {},
     "output_type": "execute_result"
    }
   ],
   "source": [
    "registered_model.source"
   ]
  },
  {
   "cell_type": "code",
   "execution_count": 4,
   "id": "abb7f8c4",
   "metadata": {},
   "outputs": [
    {
     "data": {
      "text/plain": [
       "<Run: data=<RunData: metrics={'final_rmse': 0.21774853869800637}, params={}, tags={'mlflow.runName': 'rf-milk-predictor-2025-07',\n",
       " 'mlflow.source.git.commit': 'b55658938e19e2201907b55339c86c96f2e41540',\n",
       " 'mlflow.source.name': 'orchestration/flows/master_daily_flow.py',\n",
       " 'mlflow.source.type': 'LOCAL',\n",
       " 'mlflow.user': 'maxkaizo',\n",
       " 'model_type': 'random_forest'}>, info=<RunInfo: artifact_uri='s3://mlflow-models-milk-price-dev/2/94127e382abb4a53a17632764c844261/artifacts', end_time=1754018234207, experiment_id='2', lifecycle_stage='active', run_id='94127e382abb4a53a17632764c844261', run_name='rf-milk-predictor-2025-07', start_time=1754016831438, status='FINISHED', user_id='maxkaizo'>, inputs=<RunInputs: dataset_inputs=[], model_inputs=[]>, outputs=<RunOutputs: model_outputs=[<LoggedModelOutput: model_id='m-7e67bea8560d44c4b4e38bad4030982d', step=0>]>>"
      ]
     },
     "execution_count": 4,
     "metadata": {},
     "output_type": "execute_result"
    }
   ],
   "source": [
    "run"
   ]
  },
  {
   "cell_type": "code",
   "execution_count": null,
   "id": "d0836255",
   "metadata": {},
   "outputs": [],
   "source": []
  }
 ],
 "metadata": {
  "kernelspec": {
   "display_name": "milk_price_prediction-mju8LJeN",
   "language": "python",
   "name": "python3"
  },
  "language_info": {
   "codemirror_mode": {
    "name": "ipython",
    "version": 3
   },
   "file_extension": ".py",
   "mimetype": "text/x-python",
   "name": "python",
   "nbconvert_exporter": "python",
   "pygments_lexer": "ipython3",
   "version": "3.12.3"
  }
 },
 "nbformat": 4,
 "nbformat_minor": 5
}
